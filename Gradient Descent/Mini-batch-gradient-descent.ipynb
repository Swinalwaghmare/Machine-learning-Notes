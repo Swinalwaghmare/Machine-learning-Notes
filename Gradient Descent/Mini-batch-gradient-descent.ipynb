{
 "cells": [
  {
   "cell_type": "markdown",
   "id": "4b98bf62-5d15-4f29-9df2-6030462ad2b3",
   "metadata": {
    "tags": []
   },
   "source": [
    "### Mini Batch Gradient Descent From Scrath"
   ]
  },
  {
   "cell_type": "code",
   "execution_count": 2,
   "id": "b9cbf05c-7bfa-42fd-8e4e-d517d869ca9a",
   "metadata": {},
   "outputs": [],
   "source": [
    "from sklearn.datasets import load_diabetes\n",
    "\n",
    "import numpy as np\n",
    "from sklearn.model_selection import train_test_split\n",
    "from sklearn.linear_model import LinearRegression\n",
    "from sklearn.metrics import r2_score"
   ]
  },
  {
   "cell_type": "code",
   "execution_count": 3,
   "id": "2dc7c858-a213-40cb-b196-bdf231094ad1",
   "metadata": {},
   "outputs": [],
   "source": [
    "X,y = load_diabetes(return_X_y=True)"
   ]
  },
  {
   "cell_type": "code",
   "execution_count": 4,
   "id": "a92215d5-fc56-45a6-a6b2-313ea414656b",
   "metadata": {},
   "outputs": [
    {
     "name": "stdout",
     "output_type": "stream",
     "text": [
      "(442, 10)\n",
      "(442,)\n"
     ]
    }
   ],
   "source": [
    "print(X.shape)\n",
    "print(y.shape)"
   ]
  },
  {
   "cell_type": "code",
   "execution_count": 5,
   "id": "d7cb2767-bf43-40f5-b633-263c40d0fe08",
   "metadata": {},
   "outputs": [],
   "source": [
    "X_train, X_test, y_train, y_test = train_test_split(X,y,test_size=0.2,random_state=2)"
   ]
  },
  {
   "cell_type": "code",
   "execution_count": 6,
   "id": "9506fff8-f5ab-49ca-9c47-b98fe2baaa2e",
   "metadata": {},
   "outputs": [
    {
     "data": {
      "text/plain": [
       "LinearRegression()"
      ]
     },
     "execution_count": 6,
     "metadata": {},
     "output_type": "execute_result"
    }
   ],
   "source": [
    "reg = LinearRegression()\n",
    "reg.fit(X_train, y_train)"
   ]
  },
  {
   "cell_type": "code",
   "execution_count": 9,
   "id": "42759286-5919-4382-9e62-c3c19a6a2aa7",
   "metadata": {},
   "outputs": [
    {
     "data": {
      "text/plain": [
       "151.8833452085463"
      ]
     },
     "execution_count": 9,
     "metadata": {},
     "output_type": "execute_result"
    }
   ],
   "source": [
    "reg.intercept_"
   ]
  },
  {
   "cell_type": "code",
   "execution_count": 10,
   "id": "ba606a0a-6869-4254-95de-1fd4a5311ced",
   "metadata": {},
   "outputs": [
    {
     "data": {
      "text/plain": [
       "array([  -9.16088483, -205.46225988,  516.68462383,  340.62734108,\n",
       "       -895.54360867,  561.21453306,  153.88478595,  126.73431596,\n",
       "        861.12139955,   52.41982836])"
      ]
     },
     "execution_count": 10,
     "metadata": {},
     "output_type": "execute_result"
    }
   ],
   "source": [
    "reg.coef_"
   ]
  },
  {
   "cell_type": "code",
   "execution_count": 7,
   "id": "de125097-8bad-47cf-bced-002805eedb68",
   "metadata": {},
   "outputs": [
    {
     "data": {
      "text/plain": [
       "0.4399387660024644"
      ]
     },
     "execution_count": 7,
     "metadata": {},
     "output_type": "execute_result"
    }
   ],
   "source": [
    "y_pred = reg.predict(X_test)\n",
    "r2_score(y_test, y_pred)"
   ]
  },
  {
   "cell_type": "code",
   "execution_count": 16,
   "id": "726cc7fc-437c-4496-ae6a-e2635d08c426",
   "metadata": {},
   "outputs": [],
   "source": [
    "import random\n",
    "\n",
    "class MiniBatchGDRegressor:\n",
    "    \n",
    "    def __init__(self,learning_rate=0.01,epochs=100, batch_size=10):\n",
    "        self.coef_ = None\n",
    "        self.intercept_ = None\n",
    "        self.learning_rate = learning_rate\n",
    "        self.epochs = epochs\n",
    "        self.batch_size = batch_size\n",
    "        \n",
    "    def fit(self, X_train, y_train):\n",
    "        self.coef_ = np.ones(X_train.shape[1])\n",
    "        self.intercept_ = 0\n",
    "        \n",
    "        for i in range(self.epochs):\n",
    "            \n",
    "            for j in range(int(X_train.shape[0] / self.batch_size)):\n",
    "            \n",
    "                idx = random.sample(range(X_train.shape[0]),self.batch_size)\n",
    "\n",
    "                y_hat = np.dot(X_train[idx],self.coef_) + self.intercept_\n",
    "\n",
    "                intercept_der = -2 * np.mean(y_train[idx] - y_hat)\n",
    "                self.intercept_ = self.intercept_ - (self.learning_rate * intercept_der)\n",
    "\n",
    "                coef_der = -2 * np.dot((y_train[idx] - y_hat),X_train[idx])\n",
    "                self.coef_ = self.coef_ - (self.learning_rate * coef_der)\n",
    "    \n",
    "    def predict(self,X_test):\n",
    "        return np.dot(X_test, self.coef_) + self.intercept_"
   ]
  },
  {
   "cell_type": "code",
   "execution_count": 47,
   "id": "bad9a17b-ed17-4f49-9ff3-879004a8c336",
   "metadata": {},
   "outputs": [],
   "source": [
    "mbgdr = MiniBatchGDRegressor(batch_size=int(X_train.shape[0] / 50) , learning_rate=0.01, epochs=100)"
   ]
  },
  {
   "cell_type": "code",
   "execution_count": 48,
   "id": "6a8b1926-1b8f-4151-9c8e-f4eebca3bc75",
   "metadata": {},
   "outputs": [],
   "source": [
    "mbgdr.fit(X_train,y_train)"
   ]
  },
  {
   "cell_type": "code",
   "execution_count": 49,
   "id": "82cafc96-b3c3-4a0d-8152-9167de4a42a2",
   "metadata": {},
   "outputs": [
    {
     "data": {
      "text/plain": [
       "155.12784874204664"
      ]
     },
     "execution_count": 49,
     "metadata": {},
     "output_type": "execute_result"
    }
   ],
   "source": [
    "mbgdr.intercept_"
   ]
  },
  {
   "cell_type": "code",
   "execution_count": 50,
   "id": "f17fdf3a-60cd-4f26-901a-cbcd7d7860b8",
   "metadata": {},
   "outputs": [
    {
     "data": {
      "text/plain": [
       "array([  30.98134547, -140.56729169,  449.83609127,  311.29826762,\n",
       "        -22.59748059,  -88.48104673, -198.19762913,  121.67459777,\n",
       "        407.63399799,  125.52219702])"
      ]
     },
     "execution_count": 50,
     "metadata": {},
     "output_type": "execute_result"
    }
   ],
   "source": [
    "mbgdr.coef_"
   ]
  },
  {
   "cell_type": "code",
   "execution_count": 51,
   "id": "12dec713-c185-435c-99fc-514bf49adce4",
   "metadata": {},
   "outputs": [
    {
     "data": {
      "text/plain": [
       "0.45094110958194145"
      ]
     },
     "execution_count": 51,
     "metadata": {},
     "output_type": "execute_result"
    }
   ],
   "source": [
    "y_pred = mbgdr.predict(X_test)\n",
    "r2_score(y_test,y_pred)"
   ]
  }
 ],
 "metadata": {
  "kernelspec": {
   "display_name": "Python 3 (ipykernel)",
   "language": "python",
   "name": "python3"
  },
  "language_info": {
   "codemirror_mode": {
    "name": "ipython",
    "version": 3
   },
   "file_extension": ".py",
   "mimetype": "text/x-python",
   "name": "python",
   "nbconvert_exporter": "python",
   "pygments_lexer": "ipython3",
   "version": "3.9.12"
  }
 },
 "nbformat": 4,
 "nbformat_minor": 5
}
