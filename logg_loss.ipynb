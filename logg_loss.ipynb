{
 "cells": [
  {
   "cell_type": "code",
   "execution_count": 13,
   "metadata": {},
   "outputs": [],
   "source": [
    "import numpy as np\n",
    "\n",
    "def logg_loss(y_true,y_pred):\n",
    "    \"\"\"Function to calculate log loss\n",
    "    Args:\n",
    "        y_true (list): list of true values\n",
    "        y_pred (_type_): list of probabilities of 1\n",
    "    Returns:\n",
    "        float: overall logg loss\n",
    "    \"\"\"\n",
    "    # Define an epsilon value\n",
    "    # this can also be an input\n",
    "    # this value is used to clip probabilities\n",
    "    epsilon = 1e-15\n",
    "    # initialize empty list to store\n",
    "    # individual losses\n",
    "    loss = []\n",
    "    # loop over all true and predicted probability values \n",
    "    for yt,yp in zip(y_true,y_pred):\n",
    "        # adjust probability \n",
    "        # 0 gets converted to 1e-15\n",
    "        # 1 gets converted to 1 - 1e-15\n",
    "        yp = np.clip(yp,epsilon,1- epsilon)\n",
    "        # calculate loss for one sample\n",
    "        temp_loss = -1.0 * (yt * np.log(yp) + (1-yt) * np.log(1-yp))\n",
    "        # add to loss list\n",
    "        loss.append(temp_loss)\n",
    "    #return mean over all samples\n",
    "    return np.mean(loss)"
   ]
  },
  {
   "cell_type": "code",
   "execution_count": 14,
   "metadata": {},
   "outputs": [
    {
     "data": {
      "text/plain": [
       "0.49882711861432294"
      ]
     },
     "execution_count": 14,
     "metadata": {},
     "output_type": "execute_result"
    }
   ],
   "source": [
    "y_true = [0, 0, 0, 0, 1, 0, 1, 0, 0, 1, 0, 1, 0, 0, 1]\n",
    "y_pred = [0.1, 0.3, 0.2, 0.6, 0.8, 0.05, 0.9, 0.5, 0.3, 0.66, 0.3, 0.2, 0.85, 0.15, 0.99]\n",
    "\n",
    "log_loss(y_true,y_pred)"
   ]
  }
 ],
 "metadata": {
  "kernelspec": {
   "display_name": "Python 3",
   "language": "python",
   "name": "python3"
  },
  "language_info": {
   "codemirror_mode": {
    "name": "ipython",
    "version": 3
   },
   "file_extension": ".py",
   "mimetype": "text/x-python",
   "name": "python",
   "nbconvert_exporter": "python",
   "pygments_lexer": "ipython3",
   "version": "3.10.8"
  },
  "orig_nbformat": 4,
  "vscode": {
   "interpreter": {
    "hash": "b084de08457aacf8a82bcc507fec1f14cdbbd842bff9a6dbce8ad81f7549a938"
   }
  }
 },
 "nbformat": 4,
 "nbformat_minor": 2
}
